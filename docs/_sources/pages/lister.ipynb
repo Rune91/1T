{
 "cells": [
  {
   "cell_type": "markdown",
   "metadata": {},
   "source": [
    "# 5. Lister"
   ]
  },
  {
   "cell_type": "markdown",
   "metadata": {},
   "source": [
    "En liste inneholder flere tall eller flere tekststrenger."
   ]
  },
  {
   "cell_type": "markdown",
   "metadata": {},
   "source": [
    "## 5.1 Lage og legge til i en liste"
   ]
  },
  {
   "cell_type": "markdown",
   "metadata": {},
   "source": [
    "Vi oppretter en liste enten tom, eller med noen verdier i. Her lager vi en liste med de 7 første primtallene."
   ]
  },
  {
   "cell_type": "code",
   "execution_count": 1,
   "metadata": {},
   "outputs": [
    {
     "name": "stdout",
     "output_type": "stream",
     "text": [
      "[2, 3, 5, 7, 11, 13, 17]\n"
     ]
    }
   ],
   "source": [
    "primtall = [2, 3, 5, 7, 11, 13, 17]\n",
    "print( primtall )"
   ]
  },
  {
   "cell_type": "code",
   "execution_count": 3,
   "metadata": {},
   "outputs": [
    {
     "name": "stdout",
     "output_type": "stream",
     "text": [
      "['lapskaus', 'taco', 'fårikål']\n"
     ]
    }
   ],
   "source": [
    "favorittmat = [\"lapskaus\", \"taco\", \"fårikål\"]\n",
    "print( favorittmat )"
   ]
  },
  {
   "cell_type": "markdown",
   "metadata": {},
   "source": [
    "```{admonition} Prøv selv\n",
    ":class: tip\n",
    "Lag en liste med dine favorittdyr. Skriv den til skjerm.\n",
    "```"
   ]
  },
  {
   "cell_type": "markdown",
   "metadata": {},
   "source": [
    "Vi kan også legge til elementer i en liste som allerede eksisterer ved å bruke `append()`:"
   ]
  },
  {
   "cell_type": "code",
   "execution_count": 6,
   "metadata": {},
   "outputs": [
    {
     "name": "stdout",
     "output_type": "stream",
     "text": [
      "['lapskaus', 'taco', 'fårikål', 'fiskekaker', 'iskrem']\n"
     ]
    }
   ],
   "source": [
    "favorittmat = [\"lapskaus\", \"taco\", \"fårikål\"]\n",
    "favorittmat.append(\"fiskekaker\")\n",
    "favorittmat.append(\"iskrem\")\n",
    "print( favorittmat )"
   ]
  },
  {
   "cell_type": "markdown",
   "metadata": {},
   "source": [
    "```{admonition} Prøv selv\n",
    ":class: tip\n",
    "Bruk `append()` for å legge til to ekstra dyr i lista di.\n",
    "```"
   ]
  },
  {
   "cell_type": "markdown",
   "metadata": {},
   "source": [
    "## 5.2 Plukke ut fra en liste"
   ]
  },
  {
   "cell_type": "markdown",
   "metadata": {},
   "source": [
    "Lister er veldig nyttige fordi vi kan gå inn og inspisere enkelte elementer, lese av lengden, søke etter innhold og mye mer.\n",
    "\n",
    "Vi bruker `len()` til å lese av lengden:"
   ]
  },
  {
   "cell_type": "code",
   "execution_count": 8,
   "metadata": {},
   "outputs": [
    {
     "name": "stdout",
     "output_type": "stream",
     "text": [
      "4\n"
     ]
    }
   ],
   "source": [
    "liste = []\n",
    "liste.append(1)\n",
    "liste.append(4)\n",
    "liste.append(9)\n",
    "liste.append(16)\n",
    "lengden = len(liste)\n",
    "print( lengden )"
   ]
  },
  {
   "cell_type": "markdown",
   "metadata": {},
   "source": [
    "```{admonition} Prøv selv\n",
    ":class: tip\n",
    "Bruk `len()` til å lese av lengden på lista di over favorittdyr.\n",
    "```"
   ]
  },
  {
   "cell_type": "markdown",
   "metadata": {},
   "source": [
    "Vi inspiserer ett spesifikt element ved hjelp av `[]`-paranteser."
   ]
  },
  {
   "cell_type": "code",
   "execution_count": 11,
   "metadata": {},
   "outputs": [
    {
     "name": "stdout",
     "output_type": "stream",
     "text": [
      "lapskaus\n",
      "fiskekaker\n"
     ]
    }
   ],
   "source": [
    "liste = [\"lapskaus\", \"Taco\", \"fårikål\", \"fiskekaker\", \"iskrem\"]\n",
    "print( liste[0] )\n",
    "print( liste[3] )"
   ]
  },
  {
   "cell_type": "markdown",
   "metadata": {},
   "source": [
    "`liste[0]` leser av det 0-te elementet i lista. Python teller alltid fra 0, ikke fra 1. Siden det *første* (altså det 0-te) elementet er `lapskaus`, blir det skrevet til skjerm av `print()`.\n",
    "\n",
    "Legg merke til at `liste[3]` gir `fiskekaker`, siden det er det tredje elementet når man teller fra 0. Forvirra? Så bra."
   ]
  },
  {
   "cell_type": "markdown",
   "metadata": {},
   "source": [
    "```{admonition} Prøv selv\n",
    ":class: tip\n",
    "Legg inn denne lista over de 25 første primtallene. Bruk `[]` til å finne ut:\n",
    "* Hva er primtall nummer 12?\n",
    "* Hva er differansen mellom primtall nummer 19 og primtall nummer 7?\n",
    "\n",
    "`[2, 3, 5, 7, 11, 13, 17, 19, 23, 29, 31, 37, 41, 43, 47, 53, 59, 61, 67, 71, 73, 79, 83, 89, 97]`\n",
    "```\n",
    "\n",
    "```{admonition} Svar\n",
    ":class: dropdown\n",
    "* Primtall nummer 12 er **37**\n",
    "* Primtall 19 - primtall 7 er **48**\n",
    "\n",
    "```"
   ]
  }
 ],
 "metadata": {
  "kernelspec": {
   "display_name": "Python 3",
   "language": "python",
   "name": "python3"
  },
  "language_info": {
   "codemirror_mode": {
    "name": "ipython",
    "version": 3
   },
   "file_extension": ".py",
   "mimetype": "text/x-python",
   "name": "python",
   "nbconvert_exporter": "python",
   "pygments_lexer": "ipython3",
   "version": "3.7.10"
  }
 },
 "nbformat": 4,
 "nbformat_minor": 4
}
