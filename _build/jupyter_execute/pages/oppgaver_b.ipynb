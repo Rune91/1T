{
 "cells": [
  {
   "cell_type": "markdown",
   "metadata": {},
   "source": [
    "(oppgaver-b)=\n",
    "# Oppgavesett B\n",
    "Disse oppgavene bruker teorikapitler 5-6."
   ]
  },
  {
   "cell_type": "markdown",
   "metadata": {},
   "source": [
    "---\n",
    "```{admonition} A.X: Tall i liste\n",
    ":class: tip\n",
    "Opprett en liste med dine favorittall. Programmet ditt skal så:  \n",
    "* Skrive ut det dobbelte av hvert tall til skjerm.\n",
    "* Regne ut summen av alle tallene\n",
    "```"
   ]
  },
  {
   "cell_type": "markdown",
   "metadata": {},
   "source": [
    "```{admonition} Hint!\n",
    ":class: dropdown\n",
    "Her passer det med en `for`-løkke.\n",
    "```"
   ]
  },
  {
   "cell_type": "markdown",
   "metadata": {},
   "source": [
    "---\n",
    "```{admonition} A.X: Passord\n",
    ":class: tip\n",
    "Lag et program som ber brukeren om å skrive inn et passord. Programmet skal spørre om igjen helt til passordet er riktig. Slik kan det se ut i konsollen når du kjører det ferdige programmet:  \n",
    "**Skriv inn passord: 12345  \n",
    "Feil passord!  \n",
    "Skriv inn passord: rosebud  \n",
    "Feil passord!  \n",
    "Skriv inn passord: hunter2  \n",
    "Riktig passord.**\n",
    "```"
   ]
  },
  {
   "cell_type": "markdown",
   "metadata": {},
   "source": [
    "```{admonition} Hint!\n",
    ":class: dropdown\n",
    "Her er det nyttig å bruke en `while`-løkke sammen med `input()`.\n",
    "```"
   ]
  },
  {
   "cell_type": "markdown",
   "metadata": {},
   "source": [
    "---\n",
    "```{admonition} A.X: Donald Trump\n",
    ":class: tip\n",
    "Programkoden under leser inn alle ordene Donald Trump har brukt i sine taler i lista `ord`. Kopier koden inn i Spyder og fortsett på programmet. Ikke bry deg om at du ikke forstår alt som foregår øverst.\n",
    "\n",
    "* Hvor stort er ordforrådet til Donald Trump?\n",
    "* Skriv ut ord nummer 100 til 110.  \n",
    "* Lag et program som ber brukeren om et ord. Programmet skal så fortelle brukeren om ordet inngår i Trumps ordforråd. Programmet skal spørre om igjen helt til brukeren skriver ordet **quit**.\n",
    "```"
   ]
  },
  {
   "cell_type": "code",
   "execution_count": null,
   "metadata": {},
   "outputs": [],
   "source": []
  },
  {
   "cell_type": "code",
   "execution_count": 1,
   "metadata": {},
   "outputs": [],
   "source": [
    "import urllib3\n",
    "import re\n",
    "\n",
    "http = urllib3.PoolManager()\n",
    "response = http.request('GET', \"https://raw.githubusercontent.com/ryanmcdermott/trump-speeches/master/speeches.txt\")\n",
    "data = response.data.decode('utf-8')\n",
    "\n",
    "ord = re.split(' |,|\\n|\\r|\\.|\\?|\"', data)\n",
    "ord = list(filter(None, ord))\n",
    "ord = [i.lower() for i in ord]\n",
    "ord = list(dict.fromkeys(ord))\n",
    "ord = sorted(ord)\n",
    "ord = ord[324:]\n",
    "\n",
    "###### Fortsett nedenfor #########\n"
   ]
  },
  {
   "cell_type": "markdown",
   "metadata": {},
   "source": [
    "```{admonition} Hint!\n",
    ":class: dropdown\n",
    "Hint for siste punkt:  \n",
    "* Her passer det å bruke en `while`-løkke\n",
    "* Du kan sjekke om noe finnes in en liste ved å bruke ordet `in`:  \n",
    "**liste = [10, 12, 14, 16, 18]  \n",
    "if 14 in liste:  \n",
    "&nbsp;&nbsp;&nbsp;&nbsp;&nbsp;&nbsp;print(\"Ja!\")**\n",
    "```"
   ]
  },
  {
   "cell_type": "code",
   "execution_count": null,
   "metadata": {},
   "outputs": [],
   "source": []
  }
 ],
 "metadata": {
  "kernelspec": {
   "display_name": "Python 3",
   "language": "python",
   "name": "python3"
  },
  "language_info": {
   "codemirror_mode": {
    "name": "ipython",
    "version": 3
   },
   "file_extension": ".py",
   "mimetype": "text/x-python",
   "name": "python",
   "nbconvert_exporter": "python",
   "pygments_lexer": "ipython3",
   "version": "3.7.10"
  }
 },
 "nbformat": 4,
 "nbformat_minor": 4
}