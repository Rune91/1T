{
 "cells": [
  {
   "cell_type": "markdown",
   "metadata": {},
   "source": [
    "# 4. Sannhetsverdier og if-setninger"
   ]
  },
  {
   "cell_type": "markdown",
   "metadata": {},
   "source": [
    "## Sant og usant"
   ]
  },
  {
   "cell_type": "markdown",
   "metadata": {},
   "source": [
    "Vi lager utsagn som Python evaluerer til enten `True` eller `False`. Til det bruker vi disse operatorene:"
   ]
  },
  {
   "cell_type": "markdown",
   "metadata": {},
   "source": [
    "Operator | Betydning\n",
    ":---: | :---:\n",
    "`==` | Lik\n",
    "`!=` | Ulik\n",
    "`<` | Mindre enn\n",
    "`>` | Større enn\n",
    "`<=` | Mindre eller lik\n",
    "`>=` | Større eller lik"
   ]
  },
  {
   "cell_type": "code",
   "execution_count": 1,
   "metadata": {},
   "outputs": [
    {
     "name": "stdout",
     "output_type": "stream",
     "text": [
      "True\n"
     ]
    }
   ],
   "source": [
    "print(4==4)"
   ]
  },
  {
   "cell_type": "code",
   "execution_count": 2,
   "metadata": {},
   "outputs": [
    {
     "name": "stdout",
     "output_type": "stream",
     "text": [
      "False\n"
     ]
    }
   ],
   "source": [
    "print(4!=4)"
   ]
  },
  {
   "cell_type": "code",
   "execution_count": 3,
   "metadata": {},
   "outputs": [
    {
     "name": "stdout",
     "output_type": "stream",
     "text": [
      "True\n"
     ]
    }
   ],
   "source": [
    "uttrykk = 6>1\n",
    "print(uttrykk)"
   ]
  },
  {
   "cell_type": "code",
   "execution_count": 4,
   "metadata": {},
   "outputs": [
    {
     "name": "stdout",
     "output_type": "stream",
     "text": [
      "True\n"
     ]
    }
   ],
   "source": [
    "uttrykk = 3>=3\n",
    "print(uttrykk)"
   ]
  },
  {
   "cell_type": "markdown",
   "metadata": {},
   "source": [
    "```{admonition} Prøv selv\n",
    ":class: tip\n",
    "Bruk tallene 7 og 8 til å lage to uttrykk: et som blir `True` og et som blir `False`.\n",
    "```"
   ]
  },
  {
   "cell_type": "markdown",
   "metadata": {},
   "source": [
    "---\n",
    "I tillegg til operatorene over bruker vi kodeordene `and`, `or` og `not` til å styre evaluering av uttrykk.\n",
    "* `and` gir sant dersom begge utsagnene er sanne\n",
    "* `or` gir sant derson ett (eller begge) av de to uttrykkene er sanne\n",
    "* `not` gir det motsatte av utsagnet. Gjør `True` om til `False` og motsatt"
   ]
  },
  {
   "cell_type": "code",
   "execution_count": 5,
   "metadata": {},
   "outputs": [
    {
     "name": "stdout",
     "output_type": "stream",
     "text": [
      "True\n"
     ]
    }
   ],
   "source": [
    "uttrykk = 3>2 and 10>8\n",
    "print(uttrykk)"
   ]
  },
  {
   "cell_type": "code",
   "execution_count": 6,
   "metadata": {},
   "outputs": [
    {
     "name": "stdout",
     "output_type": "stream",
     "text": [
      "False\n",
      "True\n"
     ]
    }
   ],
   "source": [
    "uttrykk = 3>2 and 10>20\n",
    "print(uttrykk)\n",
    "print(not uttrykk)"
   ]
  },
  {
   "cell_type": "code",
   "execution_count": 7,
   "metadata": {},
   "outputs": [
    {
     "name": "stdout",
     "output_type": "stream",
     "text": [
      "False\n",
      "True\n"
     ]
    }
   ],
   "source": [
    "uttrykk_1 = False\n",
    "uttrykk_2 = 5!=9\n",
    "print(uttrykk_1 and uttrykk_2)\n",
    "print(uttrykk_1 or uttrykk_2)"
   ]
  },
  {
   "cell_type": "markdown",
   "metadata": {},
   "source": [
    "```{admonition} Prøv selv\n",
    ":class: tip\n",
    "Lag et uttrykk som bruker både `and` og `not` som evalueres til `True`.\n",
    "```"
   ]
  },
  {
   "cell_type": "markdown",
   "metadata": {},
   "source": [
    "## If-setninger"
   ]
  },
  {
   "cell_type": "markdown",
   "metadata": {},
   "source": [
    "If-setninger (også kalt *kontrollstruktur*) er et viktig verktøy for å styre et program. Kodeordene `if` og `else` bruker slik:"
   ]
  },
  {
   "cell_type": "code",
   "execution_count": 8,
   "metadata": {},
   "outputs": [
    {
     "name": "stdout",
     "output_type": "stream",
     "text": [
      "Det andre tallet er størst\n"
     ]
    }
   ],
   "source": [
    "tall_1 = 10\n",
    "tall_2 = 12\n",
    "if tall_1 > tall_2:\n",
    "    print(\"Det første tallet er størst\")\n",
    "else:\n",
    "    print(\"Det andre tallet er størst\")"
   ]
  },
  {
   "cell_type": "markdown",
   "metadata": {},
   "source": [
    "Legg merke til at linjene direkte etter `if` og `else` er rykket inn. Python bruker enten TAB eller 4 mellomrom.\n",
    "\n",
    "`elif` kan også brukes dersom du vil ha flere muligheter:"
   ]
  },
  {
   "cell_type": "code",
   "execution_count": 9,
   "metadata": {},
   "outputs": [
    {
     "name": "stdout",
     "output_type": "stream",
     "text": [
      "Bienvenida a Madrid!\n"
     ]
    }
   ],
   "source": [
    "by = \"Madrid\"\n",
    "if by == \"Dortmund\":\n",
    "    print(\"Willkommen in Dortmund!\")\n",
    "elif by == \"New York\":\n",
    "    print(\"Welcome to New York!\")\n",
    "elif by == \"Madrid\":\n",
    "    print(\"Bienvenida a Madrid!\")\n",
    "else:\n",
    "    print(\"Velkommen til ...?\")"
   ]
  },
  {
   "cell_type": "markdown",
   "metadata": {},
   "source": [
    "```{admonition} Prøv selv\n",
    ":class: tip\n",
    "Bruk samme struktur som programmet over, men nå skal det handle om frukt. La programmet skrive ut fargen på frukta.\n",
    "```"
   ]
  },
  {
   "cell_type": "markdown",
   "metadata": {},
   "source": [
    "Du er nå klar til å gjøre [oppgavesett A](oppgaver-a)"
   ]
  }
 ],
 "metadata": {
  "kernelspec": {
   "display_name": "Python 3",
   "language": "python",
   "name": "python3"
  },
  "language_info": {
   "codemirror_mode": {
    "name": "ipython",
    "version": 3
   },
   "file_extension": ".py",
   "mimetype": "text/x-python",
   "name": "python",
   "nbconvert_exporter": "python",
   "pygments_lexer": "ipython3",
   "version": "3.7.10"
  }
 },
 "nbformat": 4,
 "nbformat_minor": 4
}