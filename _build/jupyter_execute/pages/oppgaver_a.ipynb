{
 "cells": [
  {
   "cell_type": "markdown",
   "metadata": {},
   "source": [
    "(oppgaver-a)=\n",
    "# Oppgavesett A\n",
    "Disse oppgavene bruker teorikapitler 1-4."
   ]
  },
  {
   "cell_type": "markdown",
   "metadata": {},
   "source": [
    "---\n",
    "```{admonition} A.1: Tallregning\n",
    ":class: tip\n",
    "Lag en variabel med verdien 7. Gjør følgende endringer på variabelen:\n",
    "* 3 ganger så stor\n",
    "* Legg til 8\n",
    "* Opphøy den i andre\n",
    "\n",
    "Skriv så ut variabelen med `print()`\n",
    "```"
   ]
  },
  {
   "cell_type": "markdown",
   "metadata": {},
   "source": [
    "---\n",
    "```{admonition} A.2: Klokka\n",
    ":class: tip\n",
    "Det var midnatt for 2387199 timer siden. Hvor mye er klokka nå?\n",
    "```"
   ]
  },
  {
   "cell_type": "markdown",
   "metadata": {},
   "source": [
    "```{admonition} Hint!\n",
    ":class: dropdown\n",
    "Her er modulo-operatoren (`%`) nyttig.\n",
    "```"
   ]
  },
  {
   "cell_type": "markdown",
   "metadata": {},
   "source": [
    "---\n",
    "```{admonition} A.3: Vinkelregning\n",
    ":class: tip\n",
    "Lag et program som spør brukeren om en vinkel i grader. Det skal så gjøre vinkelen om til radianer.\n",
    "```"
   ]
  },
  {
   "cell_type": "markdown",
   "metadata": {},
   "source": [
    "---\n",
    "```{admonition} A.4: Alder\n",
    ":class: tip\n",
    "Lag et program som leser inn alderen til brukeren som et tall. Programmet skal så fortelle brukeren om han er et barn, en tenåring eller voksen.\n",
    "```"
   ]
  },
  {
   "cell_type": "markdown",
   "metadata": {},
   "source": [
    "```{admonition} Hint!\n",
    ":class: dropdown\n",
    "Her må du bruke blant annet:\n",
    "* `int(input())`\n",
    "* `if`, `elif` og `else`\n",
    "* noen av operatorene `>`, `<`, `>=`, `>=`\n",
    "```"
   ]
  },
  {
   "cell_type": "markdown",
   "metadata": {},
   "source": [
    "---\n",
    "```{admonition} A.5: Kalkulator\n",
    ":class: tip\n",
    "Programmet under skal lese inn to tall og en regneoperator fra brukeren. Det skal så skrive ut svaret på regnestykket.\n",
    "\n",
    "**Men!** Det fungerer ikke fordi det er fullt av feil. Kopier koden og gjør endringer slik at det fungerer.\n",
    "```\n",
    "\n"
   ]
  },
  {
   "cell_type": "code",
   "execution_count": 1,
   "metadata": {
    "tags": [
     "remove-output"
    ]
   },
   "outputs": [
    {
     "ename": "SyntaxError",
     "evalue": "invalid syntax (<ipython-input-1-474359007025>, line 1)",
     "output_type": "error",
     "traceback": [
      "\u001b[1;36m  File \u001b[1;32m\"<ipython-input-1-474359007025>\"\u001b[1;36m, line \u001b[1;32m1\u001b[0m\n\u001b[1;33m    print(Velkommen til min kalkulator!)\u001b[0m\n\u001b[1;37m                      ^\u001b[0m\n\u001b[1;31mSyntaxError\u001b[0m\u001b[1;31m:\u001b[0m invalid syntax\n"
     ]
    }
   ],
   "source": [
    "print(Velkommen til min kalkulator!)\n",
    "tall_1 = input(\"Første tall: \")\n",
    "tall_2 = input(\"Andre tall: \")\n",
    "operator = input(\"+ - / eller * \")\n",
    "\n",
    "svar = 0\n",
    "if operator == \"+\"\n",
    "    svar = tall_1 + tall_2\n",
    "elif operator == \"-\":\n",
    "    svar = tall1 - tall2\n",
    "elif operator = \"/\":\n",
    "    svar = tall_1 / tall_2\n",
    "elif operator == \"*\":\n",
    "    svar = tall_1 * tall_2\n",
    "else:\n",
    "print(Ugyldig operator)\n",
    "\n",
    "print(f\"{tall_1} {operator} {tall2} = {svar}\")"
   ]
  },
  {
   "cell_type": "markdown",
   "metadata": {},
   "source": [
    "---\n",
    "```{admonition} A.6: Fortegn\n",
    ":class: tip\n",
    "Be brukeren om to tall. Programmet skal så avgjøre om de to tallene har likt eller ulikt fortegn. Skriv resultatet til skjerm.\n",
    "```"
   ]
  },
  {
   "cell_type": "markdown",
   "metadata": {},
   "source": [
    "```{admonition} Hint!\n",
    ":class: dropdown\n",
    "Neida, denne må du klare selv!\n",
    "```"
   ]
  }
 ],
 "metadata": {
  "celltoolbar": "Tags",
  "kernelspec": {
   "display_name": "Python 3",
   "language": "python",
   "name": "python3"
  },
  "language_info": {
   "codemirror_mode": {
    "name": "ipython",
    "version": 3
   },
   "file_extension": ".py",
   "mimetype": "text/x-python",
   "name": "python",
   "nbconvert_exporter": "python",
   "pygments_lexer": "ipython3",
   "version": "3.7.10"
  }
 },
 "nbformat": 4,
 "nbformat_minor": 4
}