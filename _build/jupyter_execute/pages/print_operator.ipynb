{
 "cells": [
  {
   "cell_type": "markdown",
   "metadata": {},
   "source": [
    "(output)=\n",
    "# 1. Output og regning"
   ]
  },
  {
   "cell_type": "markdown",
   "metadata": {},
   "source": [
    "## 1.1 Skrive til skjerm (output)"
   ]
  },
  {
   "cell_type": "markdown",
   "metadata": {},
   "source": [
    "Vi kan skrive tekst og verdier til konsollvinduet ved hjelp av kommandoen `print()`. Tekst må stå i anførselstegn, mens tall og variabler står uten."
   ]
  },
  {
   "cell_type": "code",
   "execution_count": 1,
   "metadata": {},
   "outputs": [
    {
     "name": "stdout",
     "output_type": "stream",
     "text": [
      "Dette er en tekst.\n",
      "10\n"
     ]
    }
   ],
   "source": [
    "print(\"Dette er en tekst.\")\n",
    "print(10)"
   ]
  },
  {
   "cell_type": "markdown",
   "metadata": {},
   "source": [
    "```{admonition} Prøv selv\n",
    ":class: tip\n",
    "Åpne kodevinduet i Spyder. Bruk `print()` til å skrive en hyggelig hilsen. Kjør programmet med play-knappen og les hilsenen din i konsollvinduet.\n",
    "```"
   ]
  },
  {
   "cell_type": "markdown",
   "metadata": {},
   "source": [
    "## 1.2 Regning med Python"
   ]
  },
  {
   "cell_type": "markdown",
   "metadata": {},
   "source": [
    "Vi bruker regneartene som vi er vant med fra matematikk til å regne med tall og variabler.\n",
    "\n",
    "Operator | Betydning\n",
    ":---: | :---:\n",
    "+ | pluss\n",
    "- | minus\n",
    "* | gange\n",
    "/ | dele\n",
    "** | potens\n",
    "// | heltallsdivisjon\n",
    "% | modulo\n",
    "\n",
    "For så styre flyten i regnestykker bruker vi paranteser akkurat som vanlig. Legg merke til at det er ikke noe problem å legge inn mellomrom i regnestykket for at det blir lettere å lese."
   ]
  },
  {
   "cell_type": "code",
   "execution_count": 2,
   "metadata": {},
   "outputs": [
    {
     "name": "stdout",
     "output_type": "stream",
     "text": [
      "8\n",
      "12\n",
      "81\n",
      "56.9\n"
     ]
    }
   ],
   "source": [
    "print(5+3)\n",
    "print(3*4)\n",
    "print(3**4)\n",
    "print( 2*(5-1) + 7**2 - 1/(5*2) )"
   ]
  },
  {
   "cell_type": "markdown",
   "metadata": {},
   "source": [
    "Heltallsdivisjon (`//`) er divisjon hvor resten blir forkastet. Modulo (`%`) finner resten i en heltallsdivisjon.\n",
    "\n",
    "Eksempel: $\\dfrac{16}{3} = 5.3333...$ Vi kjenner det også som 5 med 1 i rest."
   ]
  },
  {
   "cell_type": "code",
   "execution_count": 3,
   "metadata": {},
   "outputs": [
    {
     "name": "stdout",
     "output_type": "stream",
     "text": [
      "5\n",
      "1\n"
     ]
    }
   ],
   "source": [
    "print( 16//3 )\n",
    "print( 16%3 )"
   ]
  },
  {
   "cell_type": "markdown",
   "metadata": {},
   "source": [
    "```{admonition} Prøv selv\n",
    ":class: tip\n",
    "Regn ut disse regnestykkene med Python. Bruk `print()` til å skrive ut svaret til konsollvinduet.\n",
    "\n",
    "$3+7*5$\n",
    "\n",
    "$1.2*\\dfrac{7}{21} + 2^8 + \\dfrac{4^2-1}{2^4+1}$\n",
    "```"
   ]
  },
  {
   "cell_type": "markdown",
   "metadata": {},
   "source": [
    "```{admonition} Svar\n",
    ":class: dropdown\n",
    "$3+7*5 = 38$\n",
    "\n",
    "$1.2*\\dfrac{7}{21} + 2^8 + \\dfrac{4^2-1}{2^4+1} = 257.2823429...$\n",
    "```"
   ]
  },
  {
   "cell_type": "markdown",
   "metadata": {},
   "source": [
    "```{admonition} Prøv selv\n",
    ":class: tip\n",
    "Bruk `%` til å avgjøre om tallet 1974 er delelig på 7.\n",
    "```"
   ]
  },
  {
   "cell_type": "code",
   "execution_count": null,
   "metadata": {},
   "outputs": [],
   "source": []
  }
 ],
 "metadata": {
  "kernelspec": {
   "display_name": "Python 3",
   "language": "python",
   "name": "python3"
  },
  "language_info": {
   "codemirror_mode": {
    "name": "ipython",
    "version": 3
   },
   "file_extension": ".py",
   "mimetype": "text/x-python",
   "name": "python",
   "nbconvert_exporter": "python",
   "pygments_lexer": "ipython3",
   "version": "3.7.10"
  }
 },
 "nbformat": 4,
 "nbformat_minor": 4
}