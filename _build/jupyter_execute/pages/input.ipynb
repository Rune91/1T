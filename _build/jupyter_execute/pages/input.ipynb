{
 "cells": [
  {
   "cell_type": "markdown",
   "metadata": {},
   "source": [
    "# 3. Input"
   ]
  },
  {
   "cell_type": "markdown",
   "metadata": {},
   "source": [
    "Programmer er mest nyttige dersom brukeren av programmet kan gi *input* til det. (Hvor gøy hadde det egentlig vært å spille Fifa dersom du ikke kunne styre spillerne eller bla i menyene?)\n",
    "\n",
    "Nå skal vi lære å gi input i form av tekst og tall."
   ]
  },
  {
   "cell_type": "markdown",
   "metadata": {},
   "source": [
    "## 3.1 Hente inn tekst"
   ]
  },
  {
   "cell_type": "markdown",
   "metadata": {},
   "source": [
    "Vi ber brukeren skrive inn en tekst i konsollvinduet ved å bruke `input()` sammen med en relevant tekst. Svaret blir lagret i en variabel."
   ]
  },
  {
   "cell_type": "code",
   "execution_count": 1,
   "metadata": {
    "tags": [
     "remove-output"
    ]
   },
   "outputs": [
    {
     "ename": "StdinNotImplementedError",
     "evalue": "raw_input was called, but this frontend does not support input requests.",
     "output_type": "error",
     "traceback": [
      "\u001b[1;31m---------------------------------------------------------------------------\u001b[0m",
      "\u001b[1;31mStdinNotImplementedError\u001b[0m                  Traceback (most recent call last)",
      "\u001b[1;32m<ipython-input-1-521394487af8>\u001b[0m in \u001b[0;36m<module>\u001b[1;34m\u001b[0m\n\u001b[1;32m----> 1\u001b[1;33m \u001b[0mtekst\u001b[0m \u001b[1;33m=\u001b[0m \u001b[0minput\u001b[0m\u001b[1;33m(\u001b[0m\u001b[1;34m\"Skriv inn en tekst: \"\u001b[0m\u001b[1;33m)\u001b[0m\u001b[1;33m\u001b[0m\u001b[1;33m\u001b[0m\u001b[0m\n\u001b[0m\u001b[0;32m      2\u001b[0m \u001b[0mprint\u001b[0m\u001b[1;33m(\u001b[0m\u001b[1;34mf\"Du skrev inn dette: {tekst}!\"\u001b[0m\u001b[1;33m)\u001b[0m\u001b[1;33m\u001b[0m\u001b[1;33m\u001b[0m\u001b[0m\n",
      "\u001b[1;32me:\\programfiler\\anaconda3\\envs\\e7\\lib\\site-packages\\ipykernel\\kernelbase.py\u001b[0m in \u001b[0;36mraw_input\u001b[1;34m(self, prompt)\u001b[0m\n\u001b[0;32m    844\u001b[0m         \u001b[1;32mif\u001b[0m \u001b[1;32mnot\u001b[0m \u001b[0mself\u001b[0m\u001b[1;33m.\u001b[0m\u001b[0m_allow_stdin\u001b[0m\u001b[1;33m:\u001b[0m\u001b[1;33m\u001b[0m\u001b[1;33m\u001b[0m\u001b[0m\n\u001b[0;32m    845\u001b[0m             raise StdinNotImplementedError(\n\u001b[1;32m--> 846\u001b[1;33m                 \u001b[1;34m\"raw_input was called, but this frontend does not support input requests.\"\u001b[0m\u001b[1;33m\u001b[0m\u001b[1;33m\u001b[0m\u001b[0m\n\u001b[0m\u001b[0;32m    847\u001b[0m             )\n\u001b[0;32m    848\u001b[0m         return self._input_request(str(prompt),\n",
      "\u001b[1;31mStdinNotImplementedError\u001b[0m: raw_input was called, but this frontend does not support input requests."
     ]
    }
   ],
   "source": [
    "tekst = input(\"Skriv inn en tekst: \")\n",
    "print(f\"Du skrev inn dette: {tekst}!\")"
   ]
  },
  {
   "cell_type": "markdown",
   "metadata": {},
   "source": [
    "```{admonition} Prøv selv\n",
    ":class: tip\n",
    "Kopier og kjør programmet over. Når det kjører, vil det stoppe og vente på at du skriver et svar og trykker `Enter` i konsollvinduet.\n",
    "```"
   ]
  },
  {
   "cell_type": "markdown",
   "metadata": {},
   "source": [
    "```{admonition} Prøv selv\n",
    ":class: tip\n",
    "Lag et program som bruker to `input()`-kommandoer til å be brukeren om både fornavn og etternavn. Skriv så ut en hilsen med fullt navn.\n",
    "```"
   ]
  },
  {
   "cell_type": "markdown",
   "metadata": {},
   "source": [
    "## 3.2 Hente inn tall"
   ]
  },
  {
   "cell_type": "markdown",
   "metadata": {},
   "source": [
    "Ofte vil vil hente inn tall fra brukeren. `input()` leser inn svaret som en tekststreng selv om det bare inneholder tall. For å kunne gjøre regneoperasjoner må vi først gjøre det om til et heltall (`int`) eller et desimaltall (`float`).\n",
    "\n",
    "For å konvertere til heltall bruker vi kommandoen `int()`.\n",
    "\n",
    "Programmet under leser inn to vinkler i en trekant som heltall og regner så ut den tredje vinkelen."
   ]
  },
  {
   "cell_type": "code",
   "execution_count": 2,
   "metadata": {
    "tags": [
     "remove-output"
    ]
   },
   "outputs": [
    {
     "name": "stdout",
     "output_type": "stream",
     "text": [
      "Vinkel: 10\n",
      "Vinkel: 20\n",
      "Den tredje vinkelen er 150\n"
     ]
    }
   ],
   "source": [
    "vinkel_1 = int( input(\"Vinkel: \") )\n",
    "vinkel_2 = int( input(\"Vinkel: \") )\n",
    "vinkel_3 = 180 - vinkel_1 - vinkel_2\n",
    "print(f\"Den tredje vinkelen er {vinkel_3} grader\")"
   ]
  },
  {
   "cell_type": "markdown",
   "metadata": {},
   "source": [
    "```{admonition} Prøv selv\n",
    ":class: tip\n",
    "Lag et program som ber brukeren om et tall. Det skal så regne ut halvparten av tallet.\n",
    "```"
   ]
  },
  {
   "cell_type": "code",
   "execution_count": null,
   "metadata": {},
   "outputs": [],
   "source": []
  }
 ],
 "metadata": {
  "celltoolbar": "Tags",
  "kernelspec": {
   "display_name": "Python 3",
   "language": "python",
   "name": "python3"
  },
  "language_info": {
   "codemirror_mode": {
    "name": "ipython",
    "version": 3
   },
   "file_extension": ".py",
   "mimetype": "text/x-python",
   "name": "python",
   "nbconvert_exporter": "python",
   "pygments_lexer": "ipython3",
   "version": "3.7.10"
  }
 },
 "nbformat": 4,
 "nbformat_minor": 4
}