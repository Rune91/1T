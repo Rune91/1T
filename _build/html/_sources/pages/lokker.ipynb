{
 "cells": [
  {
   "cell_type": "markdown",
   "metadata": {},
   "source": [
    "# 6. Løkker"
   ]
  },
  {
   "cell_type": "markdown",
   "metadata": {},
   "source": [
    "Endelig er du kommet til det viktigste verktøyet i programmering: **løkker**!\n",
    "\n",
    "Løkker lar deg skrive kode som kjøres mer enn én gang."
   ]
  },
  {
   "cell_type": "markdown",
   "metadata": {},
   "source": [
    "## 6.1 for-løkker"
   ]
  },
  {
   "cell_type": "markdown",
   "metadata": {},
   "source": [
    "Vi bruker for-løkker når vi vet hvor mange ganger vi skal kjøre koden. Ta en titt på dette programmet som skriver ut de 10 første tallene:"
   ]
  },
  {
   "cell_type": "code",
   "execution_count": 2,
   "metadata": {},
   "outputs": [
    {
     "name": "stdout",
     "output_type": "stream",
     "text": [
      "0\n",
      "1\n",
      "2\n",
      "3\n",
      "4\n",
      "5\n",
      "6\n",
      "7\n",
      "8\n",
      "9\n"
     ]
    }
   ],
   "source": [
    "for tall in range(10):\n",
    "    print(tall)"
   ]
  },
  {
   "cell_type": "markdown",
   "metadata": {},
   "source": [
    "Så hva skjer?\n",
    "\n",
    "* `range(10)` lager en følge med de 10 første tallene. Husk at vi teller fra 0!\n",
    "* Koden blir så kjørt én gang for hvert tall i følgen.\n",
    "* Variabelen `tall` vil endre seg for hver runde koden kjøres."
   ]
  },
  {
   "cell_type": "markdown",
   "metadata": {},
   "source": [
    "---\n",
    "```{admonition} Prøv selv\n",
    ":class: tip\n",
    "Lag et program som skriver ut alle tallene opp til 500.\n",
    "```"
   ]
  },
  {
   "cell_type": "markdown",
   "metadata": {},
   "source": [
    "Vi kan også bruke `range()` til å telle fra et annet tall enn null, eller å bruke en annen steglengde:"
   ]
  },
  {
   "cell_type": "code",
   "execution_count": 5,
   "metadata": {},
   "outputs": [
    {
     "name": "stdout",
     "output_type": "stream",
     "text": [
      "5\n",
      "6\n",
      "7\n",
      "8\n",
      "9\n",
      "10\n",
      "11\n",
      "12\n"
     ]
    }
   ],
   "source": [
    "for x in range(5, 13):\n",
    "    print(x)"
   ]
  },
  {
   "cell_type": "markdown",
   "metadata": {},
   "source": [
    "Legg merke til at tallet **13** ikke blir med i eksempelet over."
   ]
  },
  {
   "cell_type": "code",
   "execution_count": 4,
   "metadata": {},
   "outputs": [
    {
     "name": "stdout",
     "output_type": "stream",
     "text": [
      "1\n",
      "3\n",
      "5\n",
      "7\n",
      "9\n",
      "11\n",
      "13\n",
      "15\n",
      "17\n",
      "19\n"
     ]
    }
   ],
   "source": [
    "for oddetall in range(1, 21, 2):\n",
    "    print(oddetall)"
   ]
  },
  {
   "cell_type": "markdown",
   "metadata": {},
   "source": [
    "I `range(1, 21, 2)`, vil det tredje *argumentet*, tallet `2`, bestemme steglengden mellom tallene. For-løkka går da direkte fra 1 til 3 og så videre."
   ]
  },
  {
   "cell_type": "markdown",
   "metadata": {},
   "source": [
    "---\n",
    "```{admonition} Prøv selv\n",
    ":class: tip\n",
    "Skriv ut alle partall fra 12 til 48.\n",
    "```"
   ]
  },
  {
   "cell_type": "markdown",
   "metadata": {},
   "source": [
    "---\n",
    "Ved å bruke enda en variabel kan vi for eksempel summere tallene i en følge:"
   ]
  },
  {
   "cell_type": "code",
   "execution_count": 7,
   "metadata": {},
   "outputs": [
    {
     "name": "stdout",
     "output_type": "stream",
     "text": [
      "Summen av tallene fra 1 til og med 100 er 5050.\n"
     ]
    }
   ],
   "source": [
    "# Dette programmet regner ut summen av alle tallene fra 1 til og med 100\n",
    "totalt = 0\n",
    "for tall in range(1, 101):\n",
    "    totalt = totalt + tall\n",
    "\n",
    "print(f\"Summen av tallene fra 1 til og med 100 er {totalt}.\")"
   ]
  },
  {
   "cell_type": "markdown",
   "metadata": {},
   "source": [
    "---\n",
    "```{admonition} Prøv selv\n",
    ":class: tip\n",
    "Hva er summen av alle oddetall opp til 1 million?\n",
    "```"
   ]
  },
  {
   "cell_type": "markdown",
   "metadata": {},
   "source": [
    "```{admonition} Svar\n",
    ":class: dropdown\n",
    "$250000000000$ altså $2.5*10^{11}$\n",
    "```"
   ]
  },
  {
   "cell_type": "markdown",
   "metadata": {},
   "source": [
    "## 6.2 while-løkker"
   ]
  },
  {
   "cell_type": "markdown",
   "metadata": {},
   "source": [
    "Innhold kommer."
   ]
  },
  {
   "cell_type": "markdown",
   "metadata": {},
   "source": [
    "Du er nå klar til å gjøre [oppgavesett B](oppgaver-b)"
   ]
  }
 ],
 "metadata": {
  "kernelspec": {
   "display_name": "Python 3",
   "language": "python",
   "name": "python3"
  },
  "language_info": {
   "codemirror_mode": {
    "name": "ipython",
    "version": 3
   },
   "file_extension": ".py",
   "mimetype": "text/x-python",
   "name": "python",
   "nbconvert_exporter": "python",
   "pygments_lexer": "ipython3",
   "version": "3.7.10"
  }
 },
 "nbformat": 4,
 "nbformat_minor": 4
}
