{
 "cells": [
  {
   "cell_type": "markdown",
   "metadata": {},
   "source": [
    "# 2. Variabler"
   ]
  },
  {
   "cell_type": "markdown",
   "metadata": {},
   "source": [
    "## 2.1 Kommentarer"
   ]
  },
  {
   "cell_type": "markdown",
   "metadata": {},
   "source": [
    "Det er viktig å gjøre programkode lett å lese både for deg selv og andre. Et nyttig verktøy til dette er å bruke kommentarer. En kommentar *gjør* ingenting i programmet. Alt etter `#` på en linje er en kommentar."
   ]
  },
  {
   "cell_type": "code",
   "execution_count": 5,
   "metadata": {},
   "outputs": [
    {
     "name": "stdout",
     "output_type": "stream",
     "text": [
      "4\n"
     ]
    }
   ],
   "source": [
    "# Dette er en kommentar\n",
    "print(2+2) # Denne linjen regner ut 2+2"
   ]
  },
  {
   "cell_type": "markdown",
   "metadata": {},
   "source": [
    "## 2.2 Å lage variabler"
   ]
  },
  {
   "cell_type": "markdown",
   "metadata": {},
   "source": [
    "Vi bruker variabler til å lagre tall, tekst eller annet i programmet vårt. Variabler må ha navn, som kan være på bare én bokstav eller et helt ord."
   ]
  },
  {
   "cell_type": "code",
   "execution_count": 25,
   "metadata": {},
   "outputs": [
    {
     "name": "stdout",
     "output_type": "stream",
     "text": [
      "9\n"
     ]
    }
   ],
   "source": [
    "a = 3\n",
    "b = 6\n",
    "c = a + b\n",
    "print(c)"
   ]
  },
  {
   "cell_type": "code",
   "execution_count": 4,
   "metadata": {},
   "outputs": [],
   "source": [
    "fart = 60 # km/t\n",
    "tid = 2.5 # timer\n",
    "strekning = fart * tid # km"
   ]
  },
  {
   "cell_type": "markdown",
   "metadata": {},
   "source": [
    "I programmet over har variabelen strekning fått verdien 150. Programmet gir derimot ingen output siden det ikke bruker `print()`."
   ]
  },
  {
   "cell_type": "markdown",
   "metadata": {},
   "source": [
    "```{admonition} Prøv selv\n",
    ":class: tip\n",
    "Bruk samme struktur som eksempelet over, men nå har du kjøpt poteter på butikken! Lag en variabel for vekt og en for prisen du betalte. Regn ut kilospris og skriv svaret ut til skjerm med `print()`.\n",
    "```"
   ]
  },
  {
   "cell_type": "markdown",
   "metadata": {},
   "source": [
    "For å lagre tekst i variabler må teksten være i anførselstegn. Variabler med tekst kalles for en *tekststreng* eller bare *streng*."
   ]
  },
  {
   "cell_type": "code",
   "execution_count": 3,
   "metadata": {},
   "outputs": [
    {
     "name": "stdout",
     "output_type": "stream",
     "text": [
      "Rune er kul\n"
     ]
    }
   ],
   "source": [
    "navn = \"Rune\"\n",
    "beskrivelse = \" er kul\"\n",
    "print( navn + beskrivelse )"
   ]
  },
  {
   "cell_type": "markdown",
   "metadata": {},
   "source": [
    "Vi kan endre innholdet i en variabel like enkelt ved å gi den en ny verdi."
   ]
  },
  {
   "cell_type": "code",
   "execution_count": 7,
   "metadata": {},
   "outputs": [
    {
     "name": "stdout",
     "output_type": "stream",
     "text": [
      "5\n"
     ]
    }
   ],
   "source": [
    "a = 10\n",
    "a = 21\n",
    "a = 5\n",
    "print(a)"
   ]
  },
  {
   "cell_type": "markdown",
   "metadata": {},
   "source": [
    "Vi kan også bruke variabelens gamle verdi for å oppdatere den."
   ]
  },
  {
   "cell_type": "code",
   "execution_count": 8,
   "metadata": {},
   "outputs": [
    {
     "name": "stdout",
     "output_type": "stream",
     "text": [
      "49\n"
     ]
    }
   ],
   "source": [
    "tall = 38\n",
    "tall = tall + 1\n",
    "tall = tall + 10\n",
    "print(tall)"
   ]
  },
  {
   "cell_type": "markdown",
   "metadata": {},
   "source": [
    "```{admonition} Prøv selv\n",
    ":class: tip\n",
    "Lag et program som gjør dette:\n",
    "* Oppretter en variabel x med verdi 11\n",
    "* Oppretter en ny variabel y som er det dobbelte av x\n",
    "* Øker y med 1\n",
    "* Skriver ut svaret til skjerm\n",
    "```"
   ]
  },
  {
   "cell_type": "markdown",
   "metadata": {},
   "source": [
    "```{admonition} Prøv selv\n",
    ":class: tip\n",
    "Hva blir output av programmet under? Når du har bestemt deg, kopier koden over i Spyder og sjekk om du hadde rett.\n",
    "```"
   ]
  },
  {
   "cell_type": "code",
   "execution_count": 15,
   "metadata": {
    "tags": [
     "remove-output"
    ]
   },
   "outputs": [
    {
     "name": "stdout",
     "output_type": "stream",
     "text": [
      "28.0\n"
     ]
    }
   ],
   "source": [
    "alice = 18\n",
    "bob = alice / 2\n",
    "cecilie = bob + alice\n",
    "\n",
    "cecilie = cecilie + 1\n",
    "\n",
    "print(cecilie)"
   ]
  },
  {
   "cell_type": "markdown",
   "metadata": {},
   "source": [
    "## 2.3 Å skrive tall og tekst sammen"
   ]
  },
  {
   "cell_type": "markdown",
   "metadata": {},
   "source": [
    "I `print()` kan vi skrive verdien av variabler sammen med en tekst. Til dette bruker vi et såkalt f-literal. Vi setter `f` foran tekst-strengen, og bruker variabelnavnet inne i `{}` i teksten."
   ]
  },
  {
   "cell_type": "code",
   "execution_count": 16,
   "metadata": {},
   "outputs": [
    {
     "name": "stdout",
     "output_type": "stream",
     "text": [
      "Hei, jeg heter Rune og jeg liker lapskaus.\n"
     ]
    }
   ],
   "source": [
    "navn = \"Rune\"\n",
    "mat = \"lapskaus\"\n",
    "print(f\"Hei, jeg heter {navn} og jeg liker {mat}.\")"
   ]
  },
  {
   "cell_type": "markdown",
   "metadata": {},
   "source": [
    "```{admonition} Prøv selv\n",
    ":class: tip\n",
    "Bruk variabler og `print()` til å skrive ut en hilsen som forteller om deg og dine hobbyer.\n",
    "```"
   ]
  },
  {
   "cell_type": "markdown",
   "metadata": {},
   "source": [
    "Vi bruker også f-literaler til å skrive tall sammen med tekst. Når vi gjør det, har vi også muligheten til å styre antall desimaler som skrives ut. `{c:.2f}` betyr at variabelen c skrives ut med 2 desimaler."
   ]
  },
  {
   "cell_type": "code",
   "execution_count": 19,
   "metadata": {},
   "outputs": [
    {
     "name": "stdout",
     "output_type": "stream",
     "text": [
      "22 delt på 7 er 3.142857142857143\n",
      "22 delt på 7 er 3.14\n"
     ]
    }
   ],
   "source": [
    "a = 22\n",
    "b = 7\n",
    "c = a / b\n",
    "print(f\"{a} delt på {b} er {c}\")\n",
    "print(f\"{a} delt på {b} er {c:.2f}\")"
   ]
  },
  {
   "cell_type": "markdown",
   "metadata": {},
   "source": [
    "Vi kan også velge å skrive ut tall på standardform. Til dette bruker vi `.2e` (eller `.3e` eller `.7e`)."
   ]
  },
  {
   "cell_type": "code",
   "execution_count": 24,
   "metadata": {},
   "outputs": [
    {
     "name": "stdout",
     "output_type": "stream",
     "text": [
      "Lyshastigheten er 3.00e+08 m/s.\n"
     ]
    }
   ],
   "source": [
    "c = 300000000 # m/s\n",
    "print(f\"Lyshastigheten er {c:.2e} m/s.\")"
   ]
  },
  {
   "cell_type": "markdown",
   "metadata": {},
   "source": [
    "```{admonition} Prøv selv\n",
    ":class: tip\n",
    "Lag et program som utfører regnestykket $2^5 - 1$. Det skal så skrive ut svaret i en svarsetning slik:\n",
    "\n",
    "**2^5-1 er lik 31**\n",
    "```"
   ]
  },
  {
   "cell_type": "markdown",
   "metadata": {},
   "source": [
    "```{admonition} Prøv selv\n",
    ":class: tip\n",
    "Lag et program som regner ut $\\dfrac{14}{3}$ og skriver ut svaret med 3 desimaler.\n",
    "```"
   ]
  }
 ],
 "metadata": {
  "celltoolbar": "Tags",
  "kernelspec": {
   "display_name": "Python 3",
   "language": "python",
   "name": "python3"
  },
  "language_info": {
   "codemirror_mode": {
    "name": "ipython",
    "version": 3
   },
   "file_extension": ".py",
   "mimetype": "text/x-python",
   "name": "python",
   "nbconvert_exporter": "python",
   "pygments_lexer": "ipython3",
   "version": "3.7.10"
  }
 },
 "nbformat": 4,
 "nbformat_minor": 4
}
